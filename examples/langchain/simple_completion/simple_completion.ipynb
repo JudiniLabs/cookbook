{
 "cells": [
  {
   "cell_type": "code",
   "execution_count": null,
   "metadata": {},
   "outputs": [],
   "source": [
    "# install libraries\n",
    "!pip install python-dotenv\n",
    "!pip install langchain==0.0.316\n",
    "!pip install openai==0.28.1"
   ]
  },
  {
   "cell_type": "code",
   "execution_count": 1,
   "metadata": {},
   "outputs": [],
   "source": [
    "# Import necessary libraries\n",
    "from dotenv import load_dotenv\n",
    "from langchain.chat_models import ChatOpenAI\n",
    "from langchain.chains import LLMChain\n",
    "from langchain.prompts import PromptTemplate\n",
    "import os"
   ]
  },
  {
   "cell_type": "code",
   "execution_count": 2,
   "metadata": {},
   "outputs": [
    {
     "data": {
      "text/plain": [
       "True"
      ]
     },
     "execution_count": 2,
     "metadata": {},
     "output_type": "execute_result"
    }
   ],
   "source": [
    "# Load environment variables from .env file\n",
    "load_dotenv()"
   ]
  },
  {
   "cell_type": "code",
   "execution_count": 3,
   "metadata": {},
   "outputs": [
    {
     "name": "stdout",
     "output_type": "stream",
     "text": [
      "63e52832-331a-4999-bce4-02dd0d04294b\n"
     ]
    }
   ],
   "source": [
    "# Retrieve API key and DaniGPT agent ID from environment variables\n",
    "codegpt_api_key= os.getenv(\"CODEGPT_API_KEY\")\n",
    "code_gpt_agent_id= os.getenv(\"CODEGPT_AGENT_ID\")\n",
    "codegpt_api_base = \"https://api.codegpt.co/v1\"\n",
    "print(codegpt_api_key)"
   ]
  },
  {
   "cell_type": "code",
   "execution_count": 4,
   "metadata": {},
   "outputs": [],
   "source": [
    "execute_task_prompt = PromptTemplate(\n",
    "    template=\"\"\"Given the following overall question `{input}`.\n",
    "\n",
    "    Perform the task by understanding the problem, extracting variables, and being smart\n",
    "    and efficient. Write a detailed response that address the task.\n",
    "    When confronted with choices, make a decision yourself with reasoning.\n",
    "    \"\"\",\n",
    "    input_variables=[\"input\"],\n",
    ")\n"
   ]
  },
  {
   "cell_type": "code",
   "execution_count": null,
   "metadata": {},
   "outputs": [],
   "source": [
    "# Create llm\n",
    "llm = ChatOpenAI(openai_api_key=codegpt_api_key,\n",
    "                openai_api_base=codegpt_api_base,\n",
    "                model=code_gpt_agent_id, verbose=True)\n",
    "llm_chain = LLMChain(llm=llm, prompt=execute_task_prompt)\n",
    "llm_chain(\"What is Judini?\")"
   ]
  }
 ],
 "metadata": {
  "kernelspec": {
   "display_name": "Python 3",
   "language": "python",
   "name": "python3"
  },
  "language_info": {
   "codemirror_mode": {
    "name": "ipython",
    "version": 3
   },
   "file_extension": ".py",
   "mimetype": "text/x-python",
   "name": "python",
   "nbconvert_exporter": "python",
   "pygments_lexer": "ipython3",
   "version": "3.11.2"
  }
 },
 "nbformat": 4,
 "nbformat_minor": 2
}
