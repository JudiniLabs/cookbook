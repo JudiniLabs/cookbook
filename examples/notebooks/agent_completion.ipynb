{
 "cells": [
  {
   "cell_type": "markdown",
   "metadata": {},
   "source": [
    "## Agent Completion\n",
    "\n",
    "Start by installing the houdini library that allows you to interact with your agents\n",
    "\n",
    "- pip install judini\n",
    "- Copy and paste your CodeGPT API Key and Agent ID"
   ]
  },
  {
   "cell_type": "code",
   "execution_count": null,
   "metadata": {},
   "outputs": [],
   "source": [
    "!pip install judini"
   ]
  },
  {
   "cell_type": "code",
   "execution_count": 3,
   "metadata": {},
   "outputs": [
    {
     "ename": "RuntimeError",
     "evalue": "asyncio.run() cannot be called from a running event loop",
     "output_type": "error",
     "traceback": [
      "\u001b[0;31m---------------------------------------------------------------------------\u001b[0m",
      "\u001b[0;31mRuntimeError\u001b[0m                              Traceback (most recent call last)",
      "\u001b[1;32m/Users/danipower/Proyectos/Judini/cookbook/examples/notebooks/agent_completion.ipynb Cell 3\u001b[0m line \u001b[0;36m4\n\u001b[1;32m     <a href='vscode-notebook-cell:/Users/danipower/Proyectos/Judini/cookbook/examples/notebooks/agent_completion.ipynb#W1sZmlsZQ%3D%3D?line=38'>39</a>\u001b[0m prompt  \u001b[39m=\u001b[39m {\u001b[39m\"\u001b[39m\u001b[39mrole\u001b[39m\u001b[39m\"\u001b[39m: \u001b[39m\"\u001b[39m\u001b[39muser\u001b[39m\u001b[39m\"\u001b[39m, \u001b[39m\"\u001b[39m\u001b[39mcontent\u001b[39m\u001b[39m\"\u001b[39m: text} \u001b[39m# Create a prompt for the user\u001b[39;00m\n\u001b[1;32m     <a href='vscode-notebook-cell:/Users/danipower/Proyectos/Judini/cookbook/examples/notebooks/agent_completion.ipynb#W1sZmlsZQ%3D%3D?line=40'>41</a>\u001b[0m \u001b[39m# Run the chat_example function with the user's prompt using asyncio\u001b[39;00m\n\u001b[0;32m---> <a href='vscode-notebook-cell:/Users/danipower/Proyectos/Judini/cookbook/examples/notebooks/agent_completion.ipynb#W1sZmlsZQ%3D%3D?line=41'>42</a>\u001b[0m asyncio\u001b[39m.\u001b[39;49mrun(chat_example(prompt))\n",
      "File \u001b[0;32m/usr/local/Cellar/python@3.11/3.11.2/Frameworks/Python.framework/Versions/3.11/lib/python3.11/asyncio/runners.py:186\u001b[0m, in \u001b[0;36mrun\u001b[0;34m(main, debug)\u001b[0m\n\u001b[1;32m    161\u001b[0m \u001b[39m\u001b[39m\u001b[39m\"\"\"Execute the coroutine and return the result.\u001b[39;00m\n\u001b[1;32m    162\u001b[0m \n\u001b[1;32m    163\u001b[0m \u001b[39mThis function runs the passed coroutine, taking care of\u001b[39;00m\n\u001b[0;32m   (...)\u001b[0m\n\u001b[1;32m    182\u001b[0m \u001b[39m    asyncio.run(main())\u001b[39;00m\n\u001b[1;32m    183\u001b[0m \u001b[39m\"\"\"\u001b[39;00m\n\u001b[1;32m    184\u001b[0m \u001b[39mif\u001b[39;00m events\u001b[39m.\u001b[39m_get_running_loop() \u001b[39mis\u001b[39;00m \u001b[39mnot\u001b[39;00m \u001b[39mNone\u001b[39;00m:\n\u001b[1;32m    185\u001b[0m     \u001b[39m# fail fast with short traceback\u001b[39;00m\n\u001b[0;32m--> 186\u001b[0m     \u001b[39mraise\u001b[39;00m \u001b[39mRuntimeError\u001b[39;00m(\n\u001b[1;32m    187\u001b[0m         \u001b[39m\"\u001b[39m\u001b[39masyncio.run() cannot be called from a running event loop\u001b[39m\u001b[39m\"\u001b[39m)\n\u001b[1;32m    189\u001b[0m \u001b[39mwith\u001b[39;00m Runner(debug\u001b[39m=\u001b[39mdebug) \u001b[39mas\u001b[39;00m runner:\n\u001b[1;32m    190\u001b[0m     \u001b[39mreturn\u001b[39;00m runner\u001b[39m.\u001b[39mrun(main)\n",
      "\u001b[0;31mRuntimeError\u001b[0m: asyncio.run() cannot be called from a running event loop"
     ]
    }
   ],
   "source": [
    "# Import necessary modules and libraries\n",
    "\n",
    "import  os\n",
    "import  asyncio\n",
    "from  judini.codegpt.agent  import  Agent\n",
    "from dotenv import load_dotenv # For loading environment variables from a .env file\n",
    "\n",
    "  \n",
    "# Load environment variables from a .env file if available\n",
    "\n",
    "load_dotenv()\n",
    "\n",
    "\n",
    "# Define an asynchronous function to demonstrate a chat interaction with a CodeGPT agent\n",
    "\n",
    "async def  chat_example(prompt):\n",
    "\n",
    "\t# Retrieve the CodeGPT API key from environment variables\n",
    "\tCODEGPT_API_KEY  =  os.getenv(\"CODEGPT_API_KEY\")\n",
    "\n",
    "\t# Retrieve the CodeGPT agent ID from environment variables (or you can provide it directly)\n",
    "\n",
    "\t# You can also specify the agent ID directly\n",
    "\tCODEGPT_AGENT_ID  =  os.getenv(\"CODEGPT_AGENT_ID\")\n",
    "\n",
    "\t# Create an instance of the CodeGPT agent using the API key and agent ID\n",
    "\tagent_instance  =  Agent(api_key=CODEGPT_API_KEY, agent_id=CODEGPT_AGENT_ID)\n",
    "\n",
    "\t# Use an asynchronous loop to interact with the agent and get responses\n",
    "\tasync for  response  in  agent_instance.chat_completion(prompt, stream=True):\n",
    "\t\tprint(response) # Print the responses obtained from the agent\n",
    "\n",
    "  \n",
    "\n",
    "# Entry point of the script\n",
    "if  __name__  ==  \"__main__\":\n",
    "\t\n",
    "\ttext  =  \"First President of USA?\"  # Define a user message for the conversation\n",
    "\tprompt  = {\"role\": \"user\", \"content\": text} # Create a prompt for the user\n",
    "\n",
    "\t# Run the chat_example function with the user's prompt using asyncio\n",
    "\tasyncio.run(chat_example(prompt))"
   ]
  }
 ],
 "metadata": {
  "kernelspec": {
   "display_name": "Python 3",
   "language": "python",
   "name": "python3"
  },
  "language_info": {
   "codemirror_mode": {
    "name": "ipython",
    "version": 3
   },
   "file_extension": ".py",
   "mimetype": "text/x-python",
   "name": "python",
   "nbconvert_exporter": "python",
   "pygments_lexer": "ipython3",
   "version": "3.10.9"
  },
  "orig_nbformat": 4
 },
 "nbformat": 4,
 "nbformat_minor": 2
}
