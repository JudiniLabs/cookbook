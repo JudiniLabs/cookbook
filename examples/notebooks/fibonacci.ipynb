{
 "cells": [
  {
   "cell_type": "code",
   "execution_count": 4,
   "metadata": {},
   "outputs": [
    {
     "data": {
      "image/png": "[encoded data removed]",
      "text/plain": [
       "<Figure size 640x480 with 1 Axes>"
      ]
     },
     "metadata": {},
     "output_type": "display_data"
    }
   ],
   "source": [
    "import matplotlib.pyplot as plt\n",
    "import matplotlib.patches as patches\n",
    "\n",
    "def fibonacci_sequence(n):\n",
    "    fib_sequence = [0, 1]\n",
    "    a, b = 0, 1\n",
    "    while b < n:\n",
    "        a, b = b, a + b\n",
    "        fib_sequence.append(b)\n",
    "    return fib_sequence\n",
    "\n",
    "def draw_fibonacci_squares(n):\n",
    "    fib_sequence = fibonacci_sequence(n)\n",
    "    fig, ax = plt.subplots()\n",
    "    x, y = 0, 0\n",
    "    for i, num in enumerate(fib_sequence[:-1]):\n",
    "        if i % 4 == 0:   # bottom-right direction\n",
    "            x += fib_sequence[i - 1]\n",
    "        elif i % 4 == 1: # top-right direction\n",
    "            y += fib_sequence[i - 1]\n",
    "        elif i % 4 == 2: # top-left direction\n",
    "            x -= fib_sequence[i + 1]\n",
    "        elif i % 4 == 3: # bottom-left direction\n",
    "            y -= fib_sequence[i]\n",
    "        rect = patches.Rectangle((x, y), num, num, linewidth=1, edgecolor='black', facecolor='none')\n",
    "        ax.add_patch(rect)\n",
    "    plt.axis('scaled')\n",
    "    plt.show()\n",
    "\n",
    "draw_fibonacci_squares(100)  # Call with desired upper limit for Fibonacci numbers"
   ]
  }
 ],
 "metadata": {
  "kernelspec": {
   "display_name": "base",
   "language": "python",
   "name": "python3"
  },
  "language_info": {
   "codemirror_mode": {
    "name": "ipython",
    "version": 3
   },
   "file_extension": ".py",
   "mimetype": "text/x-python",
   "name": "python",
   "nbconvert_exporter": "python",
   "pygments_lexer": "ipython3",
   "version": "3.10.9"
  }
 },
 "nbformat": 4,
 "nbformat_minor": 2
}
