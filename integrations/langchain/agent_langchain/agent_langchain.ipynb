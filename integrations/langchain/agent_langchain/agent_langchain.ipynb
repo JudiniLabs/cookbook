{
 "cells": [
  {
   "cell_type": "code",
   "execution_count": null,
   "metadata": {},
   "outputs": [],
   "source": [
    "# install libraries\n",
    "%pip install python-dotenv\n",
    "%pip install langchain==0.0.316\n",
    "%pip install openai==0.28.1"
   ]
  },
  {
   "cell_type": "code",
   "execution_count": 1,
   "metadata": {},
   "outputs": [],
   "source": [
    "# Import necessary libraries\n",
    "from dotenv import load_dotenv\n",
    "from langchain.agents import Tool, initialize_agent\n",
    "from langchain.chains import LLMChain\n",
    "from langchain.prompts import PromptTemplate\n",
    "from langchain.chat_models import ChatOpenAI\n",
    "from langchain.chains.conversation.memory import ConversationBufferWindowMemory\n",
    "import os"
   ]
  },
  {
   "cell_type": "code",
   "execution_count": null,
   "metadata": {},
   "outputs": [],
   "source": [
    "# Load environment variables from .env file\n",
    "load_dotenv()"
   ]
  },
  {
   "cell_type": "code",
   "execution_count": 3,
   "metadata": {},
   "outputs": [],
   "source": [
    "# create the prompt template to the tool\n",
    "execute_task_prompt = PromptTemplate(\n",
    "    template=\"\"\"Given the following overall question `{input}`.\n",
    "\n",
    "    Perform the task by understanding the problem, extracting variables, and being smart\n",
    "    and efficient. Write a detailed response that address the task.\n",
    "    When confronted with choices, make a decision yourself with reasoning.\n",
    "    \"\"\",\n",
    "    input_variables=[\"input\"],\n",
    ")"
   ]
  },
  {
   "cell_type": "code",
   "execution_count": 10,
   "metadata": {},
   "outputs": [],
   "source": [
    "# Retrieve API key and DaniGPT agent ID from environment variables\n",
    "codegpt_api_key= os.getenv(\"CODEGPT_API_KEY\")\n",
    "code_gpt_agent_id= os.getenv(\"CODEGPT_AGENT_ID\")\n",
    "codegpt_api_base = \"https://api.codegpt.co/v1\""
   ]
  },
  {
   "cell_type": "code",
   "execution_count": 5,
   "metadata": {},
   "outputs": [],
   "source": [
    "# Create a ChatOpenAI object with the retrieved API key, API base URL, and agent ID\n",
    "tool_agent_llm = ChatOpenAI(openai_api_key=codegpt_api_key,\n",
    "                openai_api_base=codegpt_api_base,\n",
    "                model=code_gpt_agent_id, verbose=True)\n",
    "llm_chain = LLMChain(llm=tool_agent_llm, prompt=execute_task_prompt)"
   ]
  },
  {
   "cell_type": "code",
   "execution_count": null,
   "metadata": {},
   "outputs": [],
   "source": [
    "# create and add the new llm tool\n",
    "danigpt_tool = Tool(\n",
    "    name='DaniGPT',\n",
    "    func=llm_chain.run,\n",
    "    description=\"Useful for when you need to answer questions about Judini\"\n",
    ") \n",
    "tools = [danigpt_tool]"
   ]
  },
  {
   "cell_type": "code",
   "execution_count": 7,
   "metadata": {},
   "outputs": [],
   "source": [
    "#memory\n",
    "memory = ConversationBufferWindowMemory(\n",
    "    memory_key=\"chat_history\",\n",
    "    k=3,\n",
    "    return_messages=True\n",
    ")\n",
    "\n",
    "# general llm agent\n",
    "llm_openai = ChatOpenAI(model=\"gpt-4\", temperature=0)"
   ]
  },
  {
   "cell_type": "code",
   "execution_count": 11,
   "metadata": {},
   "outputs": [],
   "source": [
    "# create the agent\n",
    "agent = initialize_agent(\n",
    "                agent=\"chat-conversational-react-description\",\n",
    "                tools=tools,\n",
    "                llm=llm_openai,\n",
    "                verbose=True,\n",
    "                max_iteration=3,\n",
    "                early_stop_method=\"generate\",\n",
    "                memory=memory\n",
    "            )"
   ]
  },
  {
   "cell_type": "code",
   "execution_count": null,
   "metadata": {},
   "outputs": [],
   "source": [
    "#run the agent\n",
    "print(agent.run(\"what is Judini?\"))"
   ]
  }
 ],
 "metadata": {
  "kernelspec": {
   "display_name": "base",
   "language": "python",
   "name": "python3"
  },
  "language_info": {
   "codemirror_mode": {
    "name": "ipython",
    "version": 3
   },
   "file_extension": ".py",
   "mimetype": "text/x-python",
   "name": "python",
   "nbconvert_exporter": "python",
   "pygments_lexer": "ipython3",
   "version": "3.10.9"
  }
 },
 "nbformat": 4,
 "nbformat_minor": 2
}
