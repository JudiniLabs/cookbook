{
  "cells": [
    {
      "cell_type": "markdown",
      "metadata": {
        "id": "314iivCaKDSf"
      },
      "source": [
        "# Documents\n",
        "\n",
        "CodeGPT Plus agents can interact with documents. Here we show how to use them.\n",
        "\n",
        "This notebooks explain how to:\n",
        "- Create an agent\n",
        "- List agents\n",
        "- Get an agent\n",
        "- Update an agent information\n",
        "- Delete an agent\n",
        "\n",
        "### Requirements\n",
        "- Your CodeGPT Plus [API Key and Org ID](https://app.codegpt.co/es/login?next=%2Fen%2Fapikeys)\n",
        "- The [Python SDK](https://github.com/JudiniLabs/judini-python): `pip install judini`"
      ]
    },
    {
      "cell_type": "code",
      "execution_count": 11,
      "metadata": {
        "colab": {
          "base_uri": "https://localhost:8080/"
        },
        "id": "QRj_et1wKDSk",
        "outputId": "62159331-bb68-4f0b-a475-5328495c2c37"
      },
      "outputs": [],
      "source": [
        "# SDK Installation\n",
        "!pip install judini --quiet"
      ]
    },
    {
      "cell_type": "markdown",
      "metadata": {},
      "source": [
        "## Initialization\n",
        "To initialize CodeGPT Plus, you need to provide your API Key and Org ID. There are two ways to give this information:\n",
        "1. Using environment variables `CODEGPT_API_KEY` and `CODEGPT_ORG_ID`\n",
        "2. Giving the API Key and Org ID as parameters"
      ]
    },
    {
      "cell_type": "code",
      "execution_count": 8,
      "metadata": {},
      "outputs": [],
      "source": [
        "from judini import CodeGPTPlus\n",
        "# This will read from environment variables\n",
        "codegpt_client = CodeGPTPlus()\n",
        "\n",
        "# This explicitly sets the API key and organization ID\n",
        "# import os\n",
        "# CODEGPT_API_KEY = os.getenv(\"CODEGPT_API_KEY\")\n",
        "# CODEGPT_ORG_ID = os.getenv(\"CODEGPT_ORG_ID\")\n",
        "# codegpt_client = CodeGPTPlus(api_key=CODEGPT_API_KEY, org_id=CODEGPT_ORG_ID)"
      ]
    },
    {
      "cell_type": "markdown",
      "metadata": {},
      "source": [
        "## Agent creation\n",
        "\n",
        "The `create_agent` method accepts the following parameters:\n",
        "- `name`: The name of the agent.\n",
        "- `model`: The model to be used by the agent. For example, 'gpt-3.5-turbo'.\n",
        "- `prompt`: The prompt of the agent.\n",
        "- `welcome`: The welcome message of the agent.\n",
        "- `topk`: The number of elements to retrieve from the documents\n",
        "- `temperature`: The temperature of the agent.\n",
        "\n",
        "The most important parts of an Agent are the `model` and `prompt`, the latter being the one that gives instructions on how the agent should behave. \n",
        "\n",
        "It returns an `Agent` object with the information of the created agent, particularly its `id`. Let's create one "
      ]
    },
    {
      "cell_type": "code",
      "execution_count": 13,
      "metadata": {},
      "outputs": [
        {
          "name": "stdout",
          "output_type": "stream",
          "text": [
            "Agent ID: b64e718d-4b7c-420b-bc5f-345991973677\n"
          ]
        },
        {
          "data": {
            "text/plain": [
              "Agent(id='b64e718d-4b7c-420b-bc5f-345991973677', name='My agent', prompt='You are a helpful assistant who uses a lot of emojies', model='gpt-3.5-turbo', agent_documents=None, welcome='Hello, how can I help you today?', pincode=None, is_public=False, agent_type='qa')"
            ]
          },
          "execution_count": 13,
          "metadata": {},
          "output_type": "execute_result"
        }
      ],
      "source": [
        "new_agent = codegpt_client.create_agent(name=\"My agent\",\n",
        "                            prompt=\"You are a helpful assistant who uses a lot of emojies\")\n",
        "print(f\"Agent ID: {new_agent.id}\")\n",
        "new_agent"
      ]
    },
    {
      "cell_type": "markdown",
      "metadata": {},
      "source": [
        "Nice! we have create a new agent. We will use it later.\n",
        "\n",
        "## List agents\n",
        "To list all the agents, you can use the `get_agents` method, which returns a list of `Agent` objects"
      ]
    },
    {
      "cell_type": "code",
      "execution_count": 14,
      "metadata": {},
      "outputs": [
        {
          "data": {
            "text/plain": [
              "[Agent(id='b64e718d-4b7c-420b-bc5f-345991973677', name='My agent', prompt='You are a helpful assistant who uses a lot of emojies', model='gpt-3.5-turbo', agent_documents=None, welcome='Hello, how can I help you today?', pincode=None, is_public=False, agent_type='qa')]"
            ]
          },
          "execution_count": 14,
          "metadata": {},
          "output_type": "execute_result"
        }
      ],
      "source": [
        "codegpt_client.get_agents()"
      ]
    },
    {
      "cell_type": "markdown",
      "metadata": {},
      "source": [
        "As you can see, there is only one agent in the list called `My agent`. Let's create another one, which will be removed later."
      ]
    },
    {
      "cell_type": "code",
      "execution_count": 16,
      "metadata": {},
      "outputs": [
        {
          "data": {
            "text/plain": [
              "[Agent(id='b64e718d-4b7c-420b-bc5f-345991973677', name='My agent', prompt='You are a helpful assistant who uses a lot of emojies', model='gpt-3.5-turbo', agent_documents=None, welcome='Hello, how can I help you today?', pincode=None, is_public=False, agent_type='qa'),\n",
              " Agent(id='cd482d18-19ac-4edd-b21c-45459bf188db', name='Dummy agent', prompt='You are a helpful assistant.', model='gpt-3.5-turbo', agent_documents=None, welcome='Hello, how can I help you today?', pincode=None, is_public=False, agent_type='qa'),\n",
              " Agent(id='5a79759f-3d23-449f-b096-81f024d3e706', name='Dummy agent', prompt='You are a helpful assistant.', model='gpt-3.5-turbo', agent_documents=None, welcome='Hello, how can I help you today?', pincode=None, is_public=False, agent_type='qa')]"
            ]
          },
          "execution_count": 16,
          "metadata": {},
          "output_type": "execute_result"
        }
      ],
      "source": [
        "dummy_agent = codegpt_client.create_agent(\"Dummy agent\")\n",
        "codegpt_client.get_agents()"
      ]
    },
    {
      "cell_type": "markdown",
      "metadata": {},
      "source": [
        "## Get an agent\n",
        "Now, suppose you already know the ID of the agent (which can be found in [CodeGPT Plus](https://app.codegpt.co/en)) you want to get. You can use the `get_agent` method."
      ]
    },
    {
      "cell_type": "code",
      "execution_count": 26,
      "metadata": {},
      "outputs": [
        {
          "name": "stdout",
          "output_type": "stream",
          "text": [
            "{\n",
            "    \"id\": \"b64e718d-4b7c-420b-bc5f-345991973677\",\n",
            "    \"name\": \"My agent\",\n",
            "    \"prompt\": \"You are a helpful assistant who uses a lot of emojies\",\n",
            "    \"model\": \"gpt-3.5-turbo\",\n",
            "    \"agent_documents\": [],\n",
            "    \"welcome\": \"Hello, how can I help you today?\",\n",
            "    \"pincode\": null,\n",
            "    \"is_public\": false,\n",
            "    \"agent_type\": \"qa\"\n",
            "}\n"
          ]
        }
      ],
      "source": [
        "my_agent = codegpt_client.get_agent(new_agent.id)\n",
        "print(my_agent.model_dump_json(indent=4)) # model_dump_json returns a JSON string of the model"
      ]
    },
    {
      "cell_type": "markdown",
      "metadata": {},
      "source": [
        "## Update an agent information\n",
        "To update the information of an agent, you can use the `update_agent` method which accepts the following parameters:\n",
        "- `agent_id`: The ID of the agent to update. This parameter is required.\n",
        "- `name`: (optional) The updated name of the agent.\n",
        "- `model`: (optional) The updated model to be used by the agent.\n",
        "- `prompt`: (optional) The updated prompt of the agent.\n",
        "- `welcome`: (optional) The updated welcome message of the agent.\n",
        "- `topk`: (optional) The updated number of elements to retrieve from the documents\n",
        "- `temperature`: (optional) The updated temperature of the agent.\n",
        "- `is_public`: (optional) The updated visibility of the agent.\n",
        "- `pincode`: (optional) The updated pincode of the agent.\n",
        "\n",
        "The method will update only the provided parameters. Similar to the other methods, this also returns an `agent` object. Let's update the name of our `My agent` agent."
      ]
    },
    {
      "cell_type": "code",
      "execution_count": 27,
      "metadata": {},
      "outputs": [
        {
          "name": "stdout",
          "output_type": "stream",
          "text": [
            "{\n",
            "    \"id\": \"b64e718d-4b7c-420b-bc5f-345991973677\",\n",
            "    \"name\": \"My agent updated\",\n",
            "    \"prompt\": \"You are a helpful assistant who uses a lot of emojies\",\n",
            "    \"model\": \"gpt-3.5-turbo\",\n",
            "    \"agent_documents\": null,\n",
            "    \"welcome\": \"Hello, how can I help you today?\",\n",
            "    \"pincode\": null,\n",
            "    \"is_public\": false,\n",
            "    \"agent_type\": \"qa\"\n",
            "}\n"
          ]
        }
      ],
      "source": [
        "updated_agent = codegpt_client.update_agent(my_agent.id, name=\"My agent updated\")\n",
        "print(updated_agent.model_dump_json(indent=4)) # model_dump_json returns a JSON string of the model"
      ]
    },
    {
      "cell_type": "code",
      "execution_count": 29,
      "metadata": {},
      "outputs": [
        {
          "data": {
            "text/plain": [
              "['My agent updated', 'Dummy agent']"
            ]
          },
          "execution_count": 29,
          "metadata": {},
          "output_type": "execute_result"
        }
      ],
      "source": [
        "# Let's check the name of all agents\n",
        "[agent.name for agent in codegpt_client.get_agents()]"
      ]
    },
    {
      "cell_type": "markdown",
      "metadata": {},
      "source": [
        "## Delete agent\n",
        "Finally, suppose you want to delete an agent. You can use the `delete_agent` method using its `id`.\n",
        "\n",
        "Let's remove the `Dummy agent`."
      ]
    },
    {
      "cell_type": "code",
      "execution_count": 30,
      "metadata": {},
      "outputs": [
        {
          "data": {
            "text/plain": [
              "'cd482d18-19ac-4edd-b21c-45459bf188db'"
            ]
          },
          "execution_count": 30,
          "metadata": {},
          "output_type": "execute_result"
        }
      ],
      "source": [
        "# If we don't know the agent ID, we can get it from the list\n",
        "agents_list = codegpt_client.get_agents()\n",
        "for agent in agents_list:\n",
        "    if agent.name == \"Dummy agent\":\n",
        "        dummy_agent_id = agent.id\n",
        "dummy_agent_id"
      ]
    },
    {
      "cell_type": "code",
      "execution_count": 31,
      "metadata": {},
      "outputs": [
        {
          "name": "stdout",
          "output_type": "stream",
          "text": [
            "Agent deleted successfully\n"
          ]
        }
      ],
      "source": [
        "codegpt_client.delete_agent(dummy_agent_id)"
      ]
    },
    {
      "cell_type": "code",
      "execution_count": 32,
      "metadata": {},
      "outputs": [
        {
          "data": {
            "text/plain": [
              "['My agent updated']"
            ]
          },
          "execution_count": 32,
          "metadata": {},
          "output_type": "execute_result"
        }
      ],
      "source": [
        "# Let's check the name of all agents\n",
        "[agent.name for agent in codegpt_client.get_agents()]"
      ]
    }
  ],
  "metadata": {
    "colab": {
      "provenance": []
    },
    "kernelspec": {
      "display_name": ".venv",
      "language": "python",
      "name": "python3"
    },
    "language_info": {
      "codemirror_mode": {
        "name": "ipython",
        "version": 3
      },
      "file_extension": ".py",
      "mimetype": "text/x-python",
      "name": "python",
      "nbconvert_exporter": "python",
      "pygments_lexer": "ipython3",
      "version": "3.11.4"
    }
  },
  "nbformat": 4,
  "nbformat_minor": 0
}
