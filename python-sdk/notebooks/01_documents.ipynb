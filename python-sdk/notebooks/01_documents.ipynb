{
  "cells": [
    {
      "cell_type": "markdown",
      "metadata": {
        "id": "314iivCaKDSf"
      },
      "source": [
        "# Agents\n",
        "Agents are the fundamental part of CodeGPT Plus. Here we show how to use them.\n",
        "\n",
        "This notebooks explain how to:\n",
        "- Upload a document\n",
        "- Get a document\n",
        "- Update document metada\n",
        "- List documents\n",
        "- Delete a document\n",
        "- Update an agent documents\n",
        "\n",
        "### Requirements\n",
        "- Your CodeGPT Plus [API Key and Org ID](https://app.codegpt.co/es/login?next=%2Fen%2Fapikeys)\n",
        "- The [Python SDK](https://github.com/JudiniLabs/judini-python): `pip install judini`"
      ]
    },
    {
      "cell_type": "code",
      "execution_count": 1,
      "metadata": {
        "colab": {
          "base_uri": "https://localhost:8080/"
        },
        "id": "QRj_et1wKDSk",
        "outputId": "62159331-bb68-4f0b-a475-5328495c2c37"
      },
      "outputs": [],
      "source": [
        "# SDK Installation\n",
        "!pip install judini --quiet"
      ]
    },
    {
      "cell_type": "markdown",
      "metadata": {},
      "source": [
        "## Initialization\n",
        "To initialize CodeGPT Plus, you need to provide your API Key and Org ID. There are two ways to give this information:\n",
        "1. Using environment variables `CODEGPT_API_KEY` and `CODEGPT_ORG_ID`\n",
        "2. Giving the API Key and Org ID as parameters"
      ]
    },
    {
      "cell_type": "code",
      "execution_count": 4,
      "metadata": {},
      "outputs": [],
      "source": [
        "from judini import CodeGPTPlus\n",
        "# This will read from environment variables\n",
        "codegpt_client = CodeGPTPlus()\n",
        "\n",
        "# This explicitly sets the API key and organization ID\n",
        "# import os\n",
        "# CODEGPT_API_KEY = os.getenv(\"CODEGPT_API_KEY\")\n",
        "# CODEGPT_ORG_ID = os.getenv(\"CODEGPT_ORG_ID\")\n",
        "# codegpt_client = CodeGPTPlus(api_key=CODEGPT_API_KEY, org_id=CODEGPT_ORG_ID)"
      ]
    },
    {
      "cell_type": "markdown",
      "metadata": {},
      "source": [
        "## Upload a document\n",
        "\n",
        "The method `upload_document` accepts the following parameters:\n",
        "- `file_path`: The path to the file to upload. This parameter is required.\n",
        "- `generate_metadata`: (optional) Whether to extract metadata from the uploaded document. Default is `False`.\n",
        "\n",
        "This method returns a dictionary with the `id` of the uploaded document. It's important to clarify that in this currently version (v0.1.10) **only `text\\plain` files are supported**. Let's upload the `markdown_document.md` file.\n"
      ]
    },
    {
      "cell_type": "code",
      "execution_count": 8,
      "metadata": {},
      "outputs": [
        {
          "name": "stdout",
          "output_type": "stream",
          "text": [
            "Document metadata updated successfully\n"
          ]
        },
        {
          "data": {
            "text/plain": [
              "{'id': 'd8cf968e-764f-4143-8dcf-63ea435c6b6a'}"
            ]
          },
          "execution_count": 8,
          "metadata": {},
          "output_type": "execute_result"
        }
      ],
      "source": [
        "document_id = codegpt_client.upload_document(file_path=\"./markdown_document.txt\",\n",
        "                                             generate_metadata=True)\n",
        "document_id"
      ]
    },
    {
      "cell_type": "markdown",
      "metadata": {},
      "source": [
        "Let's check the document we just uploaded.\n",
        "\n",
        "## Get a document\n",
        "The method `get_document` recieve the document id and returns a `Document` object with the document information"
      ]
    },
    {
      "cell_type": "code",
      "execution_count": 10,
      "metadata": {},
      "outputs": [
        {
          "name": "stdout",
          "output_type": "stream",
          "text": [
            "{\n",
            "    \"id\": \"d8cf968e-764f-4143-8dcf-63ea435c6b6a\",\n",
            "    \"user_id\": \"2c2bb544-2fd5-42d7-a38e-0ceafba4b062\",\n",
            "    \"name\": \"markdown_document\",\n",
            "    \"file_type\": \"text\",\n",
            "    \"metadata\": {\n",
            "        \"title\": \"Introduction to Markdown Syntax\",\n",
            "        \"description\": \"A brief guide to Markdown, a lightweight markup language for text formatting.\",\n",
            "        \"summary\": \"The document provides an overview of Markdown, explaining its plain-text formatting syntax and uses. It details how to format text, create lists, add links and images, and more.\",\n",
            "        \"keywords\": \"Markdown, Text Formatting, Lists, Links, Images\",\n",
            "        \"language\": \"English\"\n",
            "    },\n",
            "    \"tokens\": 323,\n",
            "    \"chunks_count\": null,\n",
            "    \"content\": \"# My Markdown Document\\n\\nThis is a simple example of a Markdown document. Markdown is a lightweight markup language with plain-text formatting syntax. It is often used to format readme files, documentation, and other types of text files.\\n\\n## Text Formatting\\n\\nYou can use Markdown to format text in various ways:\\n\\n- **Bold**: Use double asterisks or double underscores (\\\\*\\\\*bold\\\\*\\\\* or \\\\_\\\\_bold\\\\_\\\\_).\\n- *Italic*: Use single asterisks or single underscores (\\\\*italic\\\\* or \\\\_italic\\\\_).\\n- ~~Strikethrough~~: Use double tildes (\\\\~\\\\~strikethrough\\\\~\\\\~).\\n- `Code`: Use backticks (\\\\`code\\\\`).\\n\\n## Lists\\n\\nYou can create ordered or unordered lists:\\n\\n### Unordered List\\n\\n- Item 1\\n- Item 2\\n  - Subitem 1\\n  - Subitem 2\\n\\n### Ordered List\\n\\n1. First item\\n2. Second item\\n   1. Subitem\\n   2. Another subitem\\n\\n## Links and Images\\n\\nYou can add links and images:\\n\\n[OpenAI](https://openai.com) - This is a link to the OpenAI website.\\n\\n![Markdown Logo](https://markdown-here.com/img/icon256.png) - This is an image of the Markdown logo.\\n\\n## Blockquotes\\n\\nYou can create blockquotes:\\n\\n> Markdown is great for quickly creating formatted documents.\\n\\n## Code Blocks\\n\\nYou can include code blocks:\\n\\n```python\\ndef greet(name):\\n    print(\\\"Hello, \\\" + name + \\\"!\\\")\\n\"\n",
            "}\n"
          ]
        }
      ],
      "source": [
        "my_document = codegpt_client.get_document(document_id[\"id\"])\n",
        "print(my_document.model_dump_json(indent=4))"
      ]
    },
    {
      "cell_type": "markdown",
      "metadata": {},
      "source": [
        "As you can note, the document includes metadata which was generated by the CodeGPTPlus API. You can update this information\n",
        "\n",
        "## Update document metadata\n",
        "The method `update_document_metadata` accepts the following parameters:\n",
        "- `document_id`: The ID of the document to update. This parameter is required.\n",
        "- `title`: (optional) The updated title of the document.\n",
        "- `description`: (optional) The updated description of the document.\n",
        "- `summary`: (optional) The updated summary of the document.\n",
        "- `keywords`: (optional) The updated keywords of the document.\n",
        "- `language`: (optional) The updated language of the document.\n",
        "\n",
        "The method will update only the provided parameters and returns nothing. Let's update the title of the document."
      ]
    },
    {
      "cell_type": "code",
      "execution_count": 11,
      "metadata": {},
      "outputs": [
        {
          "name": "stdout",
          "output_type": "stream",
          "text": [
            "Document metadata updated successfully\n",
            "{\n",
            "    \"id\": \"d8cf968e-764f-4143-8dcf-63ea435c6b6a\",\n",
            "    \"user_id\": \"2c2bb544-2fd5-42d7-a38e-0ceafba4b062\",\n",
            "    \"name\": \"markdown_document\",\n",
            "    \"file_type\": \"text\",\n",
            "    \"metadata\": {\n",
            "        \"title\": \"My Markdown Document\",\n",
            "        \"description\": \"A brief guide to Markdown, a lightweight markup language for text formatting.\",\n",
            "        \"summary\": \"The document provides an overview of Markdown, explaining its plain-text formatting syntax and uses. It details how to format text, create lists, add links and images, and more.\",\n",
            "        \"keywords\": \"Markdown, Text Formatting, Lists, Links, Images\",\n",
            "        \"language\": \"English\"\n",
            "    },\n",
            "    \"tokens\": 323,\n",
            "    \"chunks_count\": null,\n",
            "    \"content\": \"# My Markdown Document\\n\\nThis is a simple example of a Markdown document. Markdown is a lightweight markup language with plain-text formatting syntax. It is often used to format readme files, documentation, and other types of text files.\\n\\n## Text Formatting\\n\\nYou can use Markdown to format text in various ways:\\n\\n- **Bold**: Use double asterisks or double underscores (\\\\*\\\\*bold\\\\*\\\\* or \\\\_\\\\_bold\\\\_\\\\_).\\n- *Italic*: Use single asterisks or single underscores (\\\\*italic\\\\* or \\\\_italic\\\\_).\\n- ~~Strikethrough~~: Use double tildes (\\\\~\\\\~strikethrough\\\\~\\\\~).\\n- `Code`: Use backticks (\\\\`code\\\\`).\\n\\n## Lists\\n\\nYou can create ordered or unordered lists:\\n\\n### Unordered List\\n\\n- Item 1\\n- Item 2\\n  - Subitem 1\\n  - Subitem 2\\n\\n### Ordered List\\n\\n1. First item\\n2. Second item\\n   1. Subitem\\n   2. Another subitem\\n\\n## Links and Images\\n\\nYou can add links and images:\\n\\n[OpenAI](https://openai.com) - This is a link to the OpenAI website.\\n\\n![Markdown Logo](https://markdown-here.com/img/icon256.png) - This is an image of the Markdown logo.\\n\\n## Blockquotes\\n\\nYou can create blockquotes:\\n\\n> Markdown is great for quickly creating formatted documents.\\n\\n## Code Blocks\\n\\nYou can include code blocks:\\n\\n```python\\ndef greet(name):\\n    print(\\\"Hello, \\\" + name + \\\"!\\\")\\n\"\n",
            "}\n"
          ]
        }
      ],
      "source": [
        "codegpt_client.update_document_metadata(document_id[\"id\"], title=\"My Markdown Document\")\n",
        "\n",
        "# And lets check the document again\n",
        "my_document = codegpt_client.get_document(document_id[\"id\"])\n",
        "print(my_document.model_dump_json(indent=4))"
      ]
    },
    {
      "cell_type": "markdown",
      "metadata": {},
      "source": [
        "Now, let's add a dummy document, which will be deleted later."
      ]
    },
    {
      "cell_type": "code",
      "execution_count": 12,
      "metadata": {},
      "outputs": [
        {
          "name": "stdout",
          "output_type": "stream",
          "text": [
            "Document metadata updated successfully\n"
          ]
        },
        {
          "data": {
            "text/plain": [
              "{'id': 'f0318a3d-dcf2-4263-9c46-517b7b931457'}"
            ]
          },
          "execution_count": 12,
          "metadata": {},
          "output_type": "execute_result"
        }
      ],
      "source": [
        "dummy_document_id = codegpt_client.upload_document(file_path=\"./dummy_document.txt\",\n",
        "                                             generate_metadata=True)\n",
        "dummy_document_id"
      ]
    },
    {
      "cell_type": "markdown",
      "metadata": {},
      "source": [
        "## List all documents\n",
        "\n",
        "We can obtain a list of all the documents by using the `get_documents` method."
      ]
    },
    {
      "cell_type": "code",
      "execution_count": 16,
      "metadata": {},
      "outputs": [
        {
          "data": {
            "text/plain": [
              "[Document(id='d8cf968e-764f-4143-8dcf-63ea435c6b6a', user_id='2c2bb544-2fd5-42d7-a38e-0ceafba4b062', name='markdown_document', file_type='text', metadata=DocumentMetadata(title='My Markdown Document', description='A brief guide to Markdown, a lightweight markup language for text formatting.', summary='The document provides an overview of Markdown, explaining its plain-text formatting syntax and uses. It details how to format text, create lists, add links and images, and more.', keywords='Markdown, Text Formatting, Lists, Links, Images', language='English'), tokens=323, chunks_count=None, content=None),\n",
              " Document(id='f0318a3d-dcf2-4263-9c46-517b7b931457', user_id='2c2bb544-2fd5-42d7-a38e-0ceafba4b062', name='dummy_document', file_type='text', metadata=DocumentMetadata(title='', description='', summary='', keywords='', language=''), tokens=7, chunks_count=None, content=None)]"
            ]
          },
          "execution_count": 16,
          "metadata": {},
          "output_type": "execute_result"
        }
      ],
      "source": [
        "codegpt_client.get_documents()"
      ]
    },
    {
      "cell_type": "markdown",
      "metadata": {},
      "source": [
        "## Delete a document\n",
        "\n",
        "We can delete a document by using the `delete_document` method."
      ]
    },
    {
      "cell_type": "code",
      "execution_count": 19,
      "metadata": {},
      "outputs": [
        {
          "name": "stdout",
          "output_type": "stream",
          "text": [
            "Document deleted successfully\n"
          ]
        }
      ],
      "source": [
        "codegpt_client.delete_document(dummy_document_id[\"id\"])"
      ]
    },
    {
      "cell_type": "markdown",
      "metadata": {},
      "source": [
        "## Update an agent documents\n",
        "\n",
        "This is one of the most important methods. We can update the documents associated with an agent using the `update_agent_documents` method. Which receive the agent ID and a list of document IDs."
      ]
    },
    {
      "cell_type": "code",
      "execution_count": 24,
      "metadata": {},
      "outputs": [
        {
          "name": "stdout",
          "output_type": "stream",
          "text": [
            "{\n",
            "    \"id\": \"b64e718d-4b7c-420b-bc5f-345991973677\",\n",
            "    \"name\": \"My agent updated\",\n",
            "    \"prompt\": \"You are a helpful assistant who uses a lot of emojies\",\n",
            "    \"model\": \"gpt-3.5-turbo\",\n",
            "    \"agent_documents\": null,\n",
            "    \"welcome\": \"Hello, how can I help you today?\",\n",
            "    \"pincode\": null,\n",
            "    \"is_public\": false,\n",
            "    \"agent_type\": \"qa\"\n",
            "}\n"
          ]
        }
      ],
      "source": [
        "# Lets get the agent id first as explained in ./00_agents.ipynb\n",
        "agents_list = codegpt_client.get_agents()\n",
        "agent = agents_list[0] # Lets use the first agent\n",
        "print(agent.model_dump_json(indent=4))"
      ]
    },
    {
      "cell_type": "code",
      "execution_count": 23,
      "metadata": {},
      "outputs": [
        {
          "data": {
            "text/plain": [
              "['d8cf968e-764f-4143-8dcf-63ea435c6b6a']"
            ]
          },
          "execution_count": 23,
          "metadata": {},
          "output_type": "execute_result"
        }
      ],
      "source": [
        "# Now the list of document IDs we want to use\n",
        "documents_list = codegpt_client.get_documents()\n",
        "document_ids = [document.id for document in documents_list]\n",
        "document_ids"
      ]
    },
    {
      "cell_type": "code",
      "execution_count": 25,
      "metadata": {},
      "outputs": [
        {
          "name": "stdout",
          "output_type": "stream",
          "text": [
            "Agent documents updated successfully\n",
            "{\n",
            "    \"id\": \"b64e718d-4b7c-420b-bc5f-345991973677\",\n",
            "    \"name\": \"My agent updated\",\n",
            "    \"prompt\": \"You are a helpful assistant who uses a lot of emojies\",\n",
            "    \"model\": \"gpt-3.5-turbo\",\n",
            "    \"agent_documents\": [\n",
            "        \"d8cf968e-764f-4143-8dcf-63ea435c6b6a\"\n",
            "    ],\n",
            "    \"welcome\": \"Hello, how can I help you today?\",\n",
            "    \"pincode\": null,\n",
            "    \"is_public\": false,\n",
            "    \"agent_type\": \"qa\"\n",
            "}\n"
          ]
        }
      ],
      "source": [
        "codegpt_client.update_agent_documents(agent.id, document_ids)\n",
        "\n",
        "# And now lets check the agent again\n",
        "print(codegpt_client.get_agent(agent.id).model_dump_json(indent=4))"
      ]
    }
  ],
  "metadata": {
    "colab": {
      "provenance": []
    },
    "kernelspec": {
      "display_name": ".venv",
      "language": "python",
      "name": "python3"
    },
    "language_info": {
      "codemirror_mode": {
        "name": "ipython",
        "version": 3
      },
      "file_extension": ".py",
      "mimetype": "text/x-python",
      "name": "python",
      "nbconvert_exporter": "python",
      "pygments_lexer": "ipython3",
      "version": "3.11.4"
    }
  },
  "nbformat": 4,
  "nbformat_minor": 0
}
