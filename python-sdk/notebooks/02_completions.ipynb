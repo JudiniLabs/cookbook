{
  "cells": [
    {
      "cell_type": "markdown",
      "metadata": {
        "id": "314iivCaKDSf"
      },
      "source": [
        "# Chat Completion\n",
        "You also can interact with your CodeGPT Plus agents usig the Python SDK. Here, we explain how to do it with and without streaming.\n",
        "\n",
        "### Requirements\n",
        "- Your CodeGPT Plus [API Key and Org ID](https://app.codegpt.co/es/login?next=%2Fen%2Fapikeys)\n",
        "- The [Python SDK](https://github.com/JudiniLabs/judini-python): `pip install judini`"
      ]
    },
    {
      "cell_type": "code",
      "execution_count": 1,
      "metadata": {
        "colab": {
          "base_uri": "https://localhost:8080/"
        },
        "id": "QRj_et1wKDSk",
        "outputId": "62159331-bb68-4f0b-a475-5328495c2c37"
      },
      "outputs": [],
      "source": [
        "# SDK Installation\n",
        "!pip install judini --quiet"
      ]
    },
    {
      "cell_type": "markdown",
      "metadata": {},
      "source": [
        "## Initialization\n",
        "To initialize CodeGPT Plus, you need to provide your API Key and Org ID. There are two ways to give this information:\n",
        "1. Using environment variables `CODEGPT_API_KEY` and `CODEGPT_ORG_ID`\n",
        "2. Giving the API Key and Org ID as parameters"
      ]
    },
    {
      "cell_type": "code",
      "execution_count": 3,
      "metadata": {},
      "outputs": [],
      "source": [
        "from judini import CodeGPTPlus\n",
        "# This will read from environment variables\n",
        "codegpt_client = CodeGPTPlus()\n",
        "\n",
        "# This explicitly sets the API key and organization ID\n",
        "# import os\n",
        "# CODEGPT_API_KEY = os.getenv(\"CODEGPT_API_KEY\")\n",
        "# CODEGPT_ORG_ID = os.getenv(\"CODEGPT_ORG_ID\")\n",
        "# codegpt_client = CodeGPTPlus(api_key=CODEGPT_API_KEY, org_id=CODEGPT_ORG_ID)"
      ]
    },
    {
      "cell_type": "markdown",
      "metadata": {},
      "source": [
        "First, lets get an agent ID. We can do that using the `get_agents` method."
      ]
    },
    {
      "cell_type": "code",
      "execution_count": 6,
      "metadata": {},
      "outputs": [
        {
          "name": "stdout",
          "output_type": "stream",
          "text": [
            "Total agents: 1\n",
            "{\n",
            "    \"id\": \"b64e718d-4b7c-420b-bc5f-345991973677\",\n",
            "    \"name\": \"My agent updated\",\n",
            "    \"prompt\": \"You are a helpful assistant who uses a lot of emojies\",\n",
            "    \"model\": \"gpt-3.5-turbo\",\n",
            "    \"agent_documents\": null,\n",
            "    \"welcome\": \"Hello, how can I help you today?\",\n",
            "    \"pincode\": null,\n",
            "    \"is_public\": false,\n",
            "    \"agent_type\": \"qa\"\n",
            "}\n"
          ]
        }
      ],
      "source": [
        "agents_list = codegpt_client.get_agents()\n",
        "print(f\"Total agents: {len(agents_list)}\")\n",
        "agent = agents_list[0]\n",
        "print(agent.model_dump_json(indent=4))"
      ]
    },
    {
      "cell_type": "markdown",
      "metadata": {},
      "source": [
        "## Chat completion\n",
        "\n",
        "The `chat_completion` method is used to interact with your agent. It accepts the following parameters:\n",
        "\n",
        "- `agent_id`: The ID of the agent to chat with.\n",
        "- `messages`: An array of message objects to be sent to the agent. Each\n",
        "            object should have a `role` (which can be 'system', 'user',\n",
        "            or 'assistant') and `content` which is the actual message.\n",
        "- `stream`: Whether to stream the response or not. Defaults to False.\n",
        "- `format`: The format of the response. Can be either 'json' or 'text'. Defaults to 'text'.\n",
        "\n",
        "Let's create the `messages` array "
      ]
    },
    {
      "cell_type": "code",
      "execution_count": 14,
      "metadata": {},
      "outputs": [],
      "source": [
        "messages = [{'role': 'user', 'content': 'Write a poem about markdown'}]"
      ]
    },
    {
      "cell_type": "markdown",
      "metadata": {},
      "source": [
        "### No streaming"
      ]
    },
    {
      "cell_type": "code",
      "execution_count": 10,
      "metadata": {},
      "outputs": [
        {
          "name": "stdout",
          "output_type": "stream",
          "text": [
            "Markdown, oh Markdown, a language so neat,\n",
            "With simple syntax and formatting that's sweet.\n",
            "Bold and italic, you can easily achieve,\n",
            "Using double asterisks or underscores, believe!\n",
            "\n",
            "Strikethrough, oh glorious strike,\n",
            "Double tildes, it's what you like.\n",
            "To show that something is no more,\n",
            "Markdown makes it easy to ignore.\n",
            "\n",
            "Code blocks, a place for coding delight,\n",
            "With backticks, your code shines so bright.\n",
            "Python or HTML, whatever you please,\n",
            "Markdown has got you covered with ease.\n",
            "\n",
            "Lists, both ordered and unordered,\n",
            "Markdown keeps them well-ordered.\n",
            "Item by item, they're displayed,\n",
            "Subitems nested, perfectly laid.\n",
            "\n",
            "Links and images, they're a breeze,\n",
            "With Markdown, it's a total ease.\n",
            "OpenAI's website, just a click away,\n",
            "Or an image of the logo, brightening your day.\n",
            "\n",
            "Blockquotes, for important words to say,\n",
            "Markdown helps them stand out, hooray!\n",
            "Quoting, emphasizing, making a point,\n",
            "Markdown makes it easy, no need to disappoint.\n",
            "\n",
            "So here's to Markdown, a language so fine,\n",
            "Making text formatting a joy, so divine.\n",
            "With simplicity and power combined,\n",
            "Markdown, oh Markdown, you're truly one of a kind!\n"
          ]
        }
      ],
      "source": [
        "response = codegpt_client.chat_completion(agent_id=agent.id, messages=messages,\n",
        "                                          stream=False)\n",
        "print(response)"
      ]
    },
    {
      "cell_type": "markdown",
      "metadata": {},
      "source": [
        "### Streaming"
      ]
    },
    {
      "cell_type": "code",
      "execution_count": 15,
      "metadata": {},
      "outputs": [
        {
          "name": "stdout",
          "output_type": "stream",
          "text": [
            "Markdown, oh Markdown, a language so sweet,\n",
            "With simple syntax, it's truly a treat.\n",
            "Formatting text with just a few symbols,\n",
            "Making it easy for all to be nimble.\n",
            "\n",
            "Bold and italic, with asterisks and lines,\n",
            "Emphasizing words to make them shine.\n",
            "Strikethrough for things that are no more,\n",
            "And code blocks for lines we adore.\n",
            "\n",
            "Lists, both ordered and unordered,\n",
            "Organizing thoughts, never disordered.\n",
            "Links and images, bringing life to the page,\n",
            "Connecting ideas, like a vibrant stage.\n",
            "\n",
            "Blockquotes for wisdom, profound and deep,\n",
            "Words of wisdom, forever to keep.\n",
            "And code snippets, a programmer's delight,\n",
            "Syntax highlighted, each line in sight.\n",
            "\n",
            "Markdown, you simplify our creation,\n",
            "Making documents a delightful sensation.\n",
            "So let us embrace your simplicity,\n",
            "And create with joy, for all to see."
          ]
        }
      ],
      "source": [
        "for chunk in codegpt_client.chat_completion(agent_id=agent.id, messages=messages,\n",
        "                                            stream=True):\n",
        "    print(chunk, end=\"\")"
      ]
    },
    {
      "cell_type": "markdown",
      "metadata": {},
      "source": [
        "## A more complex example\n",
        "\n",
        "What if you want to interact in a continuous way with your agent?. You can append the agent response to the `messages` array in each iteration."
      ]
    },
    {
      "cell_type": "code",
      "execution_count": 22,
      "metadata": {},
      "outputs": [
        {
          "name": "stdout",
          "output_type": "stream",
          "text": [
            "\n",
            ">> Hi!\n",
            "Hello! How can I assist you today?\n",
            ">> tell me a joke about markdown\n",
            "Sure, here's a joke about Markdown:\n",
            "\n",
            "Why did the Markdown document go to therapy?\n",
            "\n",
            "Because it had too many formatting issues and needed some text therapy! 😄\n",
            ">> text therapy?\n",
            "Yes, \"text therapy\" is a play on words. In the context of the joke, it refers to the idea that the Markdown document had so many formatting issues that it needed some help or therapy to fix them. \"Text therapy\" is not a real form of therapy, but rather a playful concept in the context of the joke.\n",
            ">> nice! now translate the joke to spanish\n",
            "¡Claro! Aquí tienes el chiste sobre Markdown en español:\n",
            "\n",
            "¿Por qué fue el documento de Markdown a terapia?\n",
            "\n",
            "¡Porque tenía demasiados problemas de formato y necesitaba un poco de terapia de texto! 😄"
          ]
        }
      ],
      "source": [
        "continuous_messages = []\n",
        "while True:\n",
        "    new_input = input(\">> \")\n",
        "    if new_input == \"exit\":\n",
        "        break\n",
        "    print(f\"\\n>> {new_input}\")\n",
        "    continuous_messages.append({'role': 'user', 'content': new_input})\n",
        "    response = codegpt_client.chat_completion(agent_id=agent.id, messages=continuous_messages,\n",
        "                                              stream=True)\n",
        "    agent_response = \"\"\n",
        "    for chunk in response:\n",
        "        agent_response += chunk\n",
        "        print(chunk, end=\"\")\n",
        "    continuous_messages.append({'role': 'assistant', 'content': agent_response})\n"
      ]
    },
    {
      "cell_type": "code",
      "execution_count": null,
      "metadata": {},
      "outputs": [],
      "source": []
    }
  ],
  "metadata": {
    "colab": {
      "provenance": []
    },
    "kernelspec": {
      "display_name": ".venv",
      "language": "python",
      "name": "python3"
    },
    "language_info": {
      "codemirror_mode": {
        "name": "ipython",
        "version": 3
      },
      "file_extension": ".py",
      "mimetype": "text/x-python",
      "name": "python",
      "nbconvert_exporter": "python",
      "pygments_lexer": "ipython3",
      "version": "3.11.4"
    }
  },
  "nbformat": 4,
  "nbformat_minor": 0
}
